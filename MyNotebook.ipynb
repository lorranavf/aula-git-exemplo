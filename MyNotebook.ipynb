{
  "nbformat": 4,
  "nbformat_minor": 0,
  "metadata": {
    "colab": {
      "provenance": [],
      "authorship_tag": "ABX9TyMdbjQtx+Q7wHRPsbRh1wjj",
      "include_colab_link": true
    },
    "kernelspec": {
      "name": "python3",
      "display_name": "Python 3"
    },
    "language_info": {
      "name": "python"
    }
  },
  "cells": [
    {
      "cell_type": "markdown",
      "metadata": {
        "id": "view-in-github",
        "colab_type": "text"
      },
      "source": [
        "<a href=\"https://colab.research.google.com/github/lorranavf/aula-git-exemplo/blob/main/MyNotebook.ipynb\" target=\"_parent\"><img src=\"https://colab.research.google.com/assets/colab-badge.svg\" alt=\"Open In Colab\"/></a>"
      ]
    },
    {
      "cell_type": "markdown",
      "source": [
        "## Aula Git\n",
        "\n"
      ],
      "metadata": {
        "id": "IrxnRIGzuIQm"
      }
    },
    {
      "cell_type": "code",
      "execution_count": 4,
      "metadata": {
        "colab": {
          "base_uri": "https://localhost:8080/"
        },
        "id": "JD2LGz4BNBmM",
        "outputId": "851c9087-117c-4d93-8831-e96cc4c5af23"
      },
      "outputs": [
        {
          "output_type": "stream",
          "name": "stdout",
          "text": [
            "Hello\n"
          ]
        }
      ],
      "source": [
        "! echo Hello"
      ]
    },
    {
      "cell_type": "code",
      "source": [
        "! pwd"
      ],
      "metadata": {
        "colab": {
          "base_uri": "https://localhost:8080/"
        },
        "id": "WaNmyUlZPkU6",
        "outputId": "fd4f069b-80aa-4301-ee00-e83ec50f0b22"
      },
      "execution_count": 5,
      "outputs": [
        {
          "output_type": "stream",
          "name": "stdout",
          "text": [
            "/content\n"
          ]
        }
      ]
    },
    {
      "cell_type": "code",
      "source": [
        "! git"
      ],
      "metadata": {
        "colab": {
          "base_uri": "https://localhost:8080/"
        },
        "id": "laiFYT5LuM3b",
        "outputId": "6854e939-7383-47f1-f50f-ba5c99e04767"
      },
      "execution_count": 6,
      "outputs": [
        {
          "output_type": "stream",
          "name": "stdout",
          "text": [
            "usage: git [--version] [--help] [-C <path>] [-c <name>=<value>]\n",
            "           [--exec-path[=<path>]] [--html-path] [--man-path] [--info-path]\n",
            "           [-p | --paginate | -P | --no-pager] [--no-replace-objects] [--bare]\n",
            "           [--git-dir=<path>] [--work-tree=<path>] [--namespace=<name>]\n",
            "           [--super-prefix=<path>] [--config-env=<name>=<envvar>]\n",
            "           <command> [<args>]\n",
            "\n",
            "These are common Git commands used in various situations:\n",
            "\n",
            "start a working area (see also: git help tutorial)\n",
            "   clone     Clone a repository into a new directory\n",
            "   init      Create an empty Git repository or reinitialize an existing one\n",
            "\n",
            "work on the current change (see also: git help everyday)\n",
            "   add       Add file contents to the index\n",
            "   mv        Move or rename a file, a directory, or a symlink\n",
            "   restore   Restore working tree files\n",
            "   rm        Remove files from the working tree and from the index\n",
            "\n",
            "examine the history and state (see also: git help revisions)\n",
            "   bisect    Use binary search to find the commit that introduced a bug\n",
            "   diff      Show changes between commits, commit and working tree, etc\n",
            "   grep      Print lines matching a pattern\n",
            "   log       Show commit logs\n",
            "   show      Show various types of objects\n",
            "   status    Show the working tree status\n",
            "\n",
            "grow, mark and tweak your common history\n",
            "   branch    List, create, or delete branches\n",
            "   commit    Record changes to the repository\n",
            "   merge     Join two or more development histories together\n",
            "   rebase    Reapply commits on top of another base tip\n",
            "   reset     Reset current HEAD to the specified state\n",
            "   switch    Switch branches\n",
            "   tag       Create, list, delete or verify a tag object signed with GPG\n",
            "\n",
            "collaborate (see also: git help workflows)\n",
            "   fetch     Download objects and refs from another repository\n",
            "   pull      Fetch from and integrate with another repository or a local branch\n",
            "   push      Update remote refs along with associated objects\n",
            "\n",
            "'git help -a' and 'git help -g' list available subcommands and some\n",
            "concept guides. See 'git help <command>' or 'git help <concept>'\n",
            "to read about a specific subcommand or concept.\n",
            "See 'git help git' for an overview of the system.\n"
          ]
        }
      ]
    },
    {
      "cell_type": "code",
      "source": [],
      "metadata": {
        "id": "Z7E-eN6auOFf"
      },
      "execution_count": null,
      "outputs": []
    }
  ]
}